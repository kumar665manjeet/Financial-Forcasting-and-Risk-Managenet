{
 "cells": [
  {
   "cell_type": "markdown",
   "id": "08f1a27b",
   "metadata": {},
   "source": [
    "# Objective 1. Develop a financial forecasting model that can predict future revenue, expenses, and profit."
   ]
  },
  {
   "cell_type": "markdown",
   "id": "061e24e7",
   "metadata": {},
   "source": [
    "# Data Reading"
   ]
  },
  {
   "cell_type": "code",
   "execution_count": 1,
   "id": "c8dc6a37",
   "metadata": {},
   "outputs": [],
   "source": [
    "# import the libraires\n",
    "\n",
    "import pandas as pd\n",
    "import numpy as np\n",
    "import matplotlib.pyplot as plt\n",
    "import seaborn as sns\n",
    "%matplotlib inline\n",
    "\n",
    "#ignore warnings\n",
    "\n",
    "import warnings\n",
    "warnings.filterwarnings('ignore')\n",
    "\n",
    "pd.options.display.max_columns = None\n",
    "pd.options.display.max_rows = None"
   ]
  },
  {
   "cell_type": "code",
   "execution_count": 2,
   "id": "007f5957",
   "metadata": {},
   "outputs": [],
   "source": [
    "df = pd.read_csv('financial_data.csv')"
   ]
  },
  {
   "cell_type": "code",
   "execution_count": 3,
   "id": "718964ef",
   "metadata": {},
   "outputs": [
    {
     "name": "stdout",
     "output_type": "stream",
     "text": [
      "Data Head:\n",
      "                          name   NSE_code BSE_code                   sector  \\\n",
      "0               3M India Ltd.    3MINDIA   523395      GENERAL INDUSTRIALS   \n",
      "1                    ACC Ltd.        ACC   500410  CEMENT AND CONSTRUCTION   \n",
      "2        AIA Engineering Ltd.     AIAENG   532683      GENERAL INDUSTRIALS   \n",
      "3       APL Apollo Tubes Ltd.  APLAPOLLO   533758          METALS & MINING   \n",
      "4  Au Small Finance Bank Ltd.     AUBANK   540611      BANKING AND FINANCE   \n",
      "\n",
      "                   industry  revenue operating_expenses operating_profit  \\\n",
      "0      INDUSTRIAL MACHINERY    1,057              847.4            192.1   \n",
      "1  CEMENT & CEMENT PRODUCTS  4,644.8            3,885.4            549.3   \n",
      "2    OTHER INDUSTRIAL GOODS  1,357.1              912.7            382.1   \n",
      "3     IRON & STEEL PRODUCTS    4,650            4,305.4              325   \n",
      "4                     BANKS  2,956.5            1,026.7            647.7   \n",
      "\n",
      "  operating_profit_margin depreciation interest profit_before_tax    tax  \\\n",
      "0                  18.48%         12.9      0.7             195.9   49.8   \n",
      "1                  12.39%        212.8     28.9             517.7  131.5   \n",
      "2                  29.51%         24.5      7.4             412.5   88.4   \n",
      "3                   7.02%         41.3     26.6             276.7   73.8   \n",
      "4                  25.59%            0  1,282.1             533.4  131.5   \n",
      "\n",
      "  net_profit    EPS profit_TTM  EPS_TTM  \n",
      "0      146.1  129.7      535.9    475.7  \n",
      "1      387.9   20.7    1,202.7     64.0  \n",
      "2      323.1   34.3    1,216.1    128.9  \n",
      "3      202.9    7.3      767.5     27.7  \n",
      "4      401.8    6.0    1,606.2     24.0  \n"
     ]
    }
   ],
   "source": [
    "print(\"Data Head:\\n\", df.head())"
   ]
  },
  {
   "cell_type": "markdown",
   "id": "5711ef95",
   "metadata": {},
   "source": [
    "# Exploratory Data Analysis"
   ]
  },
  {
   "cell_type": "code",
   "execution_count": 4,
   "id": "b7ef2ecf",
   "metadata": {},
   "outputs": [
    {
     "name": "stdout",
     "output_type": "stream",
     "text": [
      "\n",
      "Descriptive Stats:\n",
      "                EPS      EPS_TTM\n",
      "count   500.000000   498.000000\n",
      "mean     15.252400    54.043775\n",
      "std      66.113983   193.529196\n",
      "min     -32.400000  -214.800000\n",
      "25%       2.100000     8.900000\n",
      "50%       5.350000    22.400000\n",
      "75%      14.200000    52.675000\n",
      "max    1383.300000  3988.000000\n"
     ]
    }
   ],
   "source": [
    "print(\"\\nDescriptive Stats:\\n\", df.describe())"
   ]
  },
  {
   "cell_type": "code",
   "execution_count": 5,
   "id": "253a8056",
   "metadata": {},
   "outputs": [
    {
     "name": "stdout",
     "output_type": "stream",
     "text": [
      "\n",
      "Missing Values:\n",
      " name                       0\n",
      "NSE_code                   0\n",
      "BSE_code                   0\n",
      "sector                     0\n",
      "industry                   0\n",
      "revenue                    1\n",
      "operating_expenses         1\n",
      "operating_profit           1\n",
      "operating_profit_margin    1\n",
      "depreciation               1\n",
      "interest                   1\n",
      "profit_before_tax          1\n",
      "tax                        1\n",
      "net_profit                 1\n",
      "EPS                        1\n",
      "profit_TTM                 3\n",
      "EPS_TTM                    3\n",
      "dtype: int64\n"
     ]
    }
   ],
   "source": [
    "# 2. Check for Missing Values\n",
    "print(\"\\nMissing Values:\\n\", df.isnull().sum())"
   ]
  },
  {
   "cell_type": "code",
   "execution_count": 6,
   "id": "46a83e28",
   "metadata": {},
   "outputs": [],
   "source": [
    "from sklearn.preprocessing import LabelEncoder\n",
    "# 4. Feature Encoding - Encode categorical columns for correlation and feature importance analysis\n",
    "# Encoding 'sector' and 'industry' if needed\n",
    "if 'sector' in df.columns:\n",
    "    le = LabelEncoder()\n",
    "    df['sector'] = le.fit_transform(df['sector'])\n",
    "if 'industry' in df.columns:\n",
    "    df['industry'] = le.fit_transform(df['industry'])"
   ]
  },
  {
   "cell_type": "code",
   "execution_count": 7,
   "id": "9c5ca034",
   "metadata": {},
   "outputs": [],
   "source": [
    "# 5. Select Features for Modeling (Drop irrelevant columns for now)\n",
    "# Based on initial assessment, we can drop NSE_code, BSE_code\n",
    "df = df.drop(columns=['NSE_code', 'BSE_code','name','operating_profit_margin'], errors='ignore')"
   ]
  },
  {
   "cell_type": "code",
   "execution_count": 8,
   "id": "599d3f44",
   "metadata": {},
   "outputs": [
    {
     "name": "stdout",
     "output_type": "stream",
     "text": [
      "sector                0\n",
      "industry              0\n",
      "revenue               1\n",
      "operating_expenses    1\n",
      "operating_profit      1\n",
      "depreciation          1\n",
      "interest              1\n",
      "profit_before_tax     1\n",
      "tax                   1\n",
      "net_profit            1\n",
      "EPS                   1\n",
      "profit_TTM            3\n",
      "EPS_TTM               3\n",
      "dtype: int64\n"
     ]
    }
   ],
   "source": [
    "\n",
    "# Step 1: Remove commas from columns that should be numeric\n",
    "df = df.replace({',': ''}, regex=True)\n",
    "\n",
    "# Step 2: Convert relevant columns to numeric\n",
    "numeric_columns = ['revenue', 'operating_expenses', 'operating_profit', \n",
    "                   'depreciation', 'interest', 'profit_before_tax', 'tax', 'net_profit', \n",
    "                   'EPS', 'profit_TTM', 'EPS_TTM']\n",
    "\n",
    "for col in numeric_columns:\n",
    "    df[col] = pd.to_numeric(df[col], errors='coerce')\n",
    "\n",
    "# Step 3: Check for missing values after conversion (optional)\n",
    "print(df.isnull().sum())\n",
    "\n",
    "# Step 4: Drop rows with missing numerical data (optional, depending on data quality)\n",
    "df_cleaned = df.dropna(subset=numeric_columns)"
   ]
  },
  {
   "cell_type": "code",
   "execution_count": 9,
   "id": "b3947ca4",
   "metadata": {},
   "outputs": [
    {
     "name": "stdout",
     "output_type": "stream",
     "text": [
      "sector                0\n",
      "industry              0\n",
      "revenue               0\n",
      "operating_expenses    0\n",
      "operating_profit      0\n",
      "depreciation          0\n",
      "interest              0\n",
      "profit_before_tax     0\n",
      "tax                   0\n",
      "net_profit            0\n",
      "EPS                   0\n",
      "profit_TTM            0\n",
      "EPS_TTM               0\n",
      "dtype: int64\n"
     ]
    }
   ],
   "source": [
    "# Step 3: Check for missing values after conversion (optional)\n",
    "print(df_cleaned.isnull().sum())"
   ]
  },
  {
   "cell_type": "code",
   "execution_count": 10,
   "id": "9e105e45",
   "metadata": {},
   "outputs": [
    {
     "data": {
      "image/png": "[encoded data removed]",
      "text/plain": [
       "<Figure size 864x576 with 2 Axes>"
      ]
     },
     "metadata": {
      "needs_background": "light"
     },
     "output_type": "display_data"
    }
   ],
   "source": [
    "# 3. Correlation Heatmap - To check correlation among numeric features\n",
    "plt.figure(figsize=(12,8))\n",
    "sns.heatmap(df_cleaned.corr(), annot=True, cmap='coolwarm', linewidths=0.5)\n",
    "plt.title(\"Correlation Heatmap\")\n",
    "plt.show()"
   ]
  },
  {
   "cell_type": "code",
   "execution_count": 11,
   "id": "b163d797",
   "metadata": {},
   "outputs": [],
   "source": [
    "# Step 4: Drop columns with low correlation to target variables (like 'revenue', 'operating_expenses', and 'profit')\n",
    "# Example: We assume that you want to keep columns that have strong correlation with revenue or net profit\n",
    "# Set a threshold for correlation (e.g., keep columns with absolute correlation > 0.3)\n",
    "correlation_threshold = 0.3\n",
    "correlation_matrix = df_cleaned.corr()\n",
    "\n",
    "# Find the correlation of each feature with the target columns\n",
    "relevant_features = correlation_matrix[(correlation_matrix['revenue'].abs() > correlation_threshold) |\n",
    "                                       (correlation_matrix['net_profit'].abs() > correlation_threshold)].index\n",
    "\n",
    "# Filter the dataset to keep only relevant features\n",
    "df_final = df_cleaned[relevant_features]"
   ]
  },
  {
   "cell_type": "code",
   "execution_count": 12,
   "id": "ddbc9d7b",
   "metadata": {},
   "outputs": [
    {
     "name": "stdout",
     "output_type": "stream",
     "text": [
      "\n",
      "Cleaned Dataset:\n",
      "    revenue  operating_expenses  operating_profit  depreciation  interest  \\\n",
      "0   1057.0               847.4             192.1          12.9       0.7   \n",
      "1   4644.8              3885.4             549.3         212.8      28.9   \n",
      "2   1357.1               912.7             382.1          24.5       7.4   \n",
      "3   4650.0              4305.4             325.0          41.3      26.6   \n",
      "4   2956.5              1026.7             647.7           0.0    1282.1   \n",
      "\n",
      "   profit_before_tax    tax  net_profit  profit_TTM  \n",
      "0              195.9   49.8       146.1       535.9  \n",
      "1              517.7  131.5       387.9      1202.7  \n",
      "2              412.5   88.4       323.1      1216.1  \n",
      "3              276.7   73.8       202.9       767.5  \n",
      "4              533.4  131.5       401.8      1606.2  \n"
     ]
    }
   ],
   "source": [
    "# Display the final dataset\n",
    "print(\"\\nCleaned Dataset:\\n\", df_final.head())"
   ]
  },
  {
   "cell_type": "code",
   "execution_count": 13,
   "id": "c5cd9cdf",
   "metadata": {},
   "outputs": [],
   "source": [
    "# Save cleaned data to CSV\n",
    "df_final.to_csv('cleaned_financial_data.csv', index=False)"
   ]
  },
  {
   "cell_type": "code",
   "execution_count": 14,
   "id": "9c71a5d9",
   "metadata": {},
   "outputs": [],
   "source": [
    "df_new = pd.read_csv('cleaned_financial_data.csv')"
   ]
  },
  {
   "cell_type": "code",
   "execution_count": 15,
   "id": "a830dd67",
   "metadata": {},
   "outputs": [
    {
     "data": {
      "text/html": [
       "<div>\n",
       "<style scoped>\n",
       "    .dataframe tbody tr th:only-of-type {\n",
       "        vertical-align: middle;\n",
       "    }\n",
       "\n",
       "    .dataframe tbody tr th {\n",
       "        vertical-align: top;\n",
       "    }\n",
       "\n",
       "    .dataframe thead th {\n",
       "        text-align: right;\n",
       "    }\n",
       "</style>\n",
       "<table border=\"1\" class=\"dataframe\">\n",
       "  <thead>\n",
       "    <tr style=\"text-align: right;\">\n",
       "      <th></th>\n",
       "      <th>revenue</th>\n",
       "      <th>operating_expenses</th>\n",
       "      <th>operating_profit</th>\n",
       "      <th>depreciation</th>\n",
       "      <th>interest</th>\n",
       "      <th>profit_before_tax</th>\n",
       "      <th>tax</th>\n",
       "      <th>net_profit</th>\n",
       "      <th>profit_TTM</th>\n",
       "    </tr>\n",
       "  </thead>\n",
       "  <tbody>\n",
       "    <tr>\n",
       "      <th>0</th>\n",
       "      <td>1057.0</td>\n",
       "      <td>847.4</td>\n",
       "      <td>192.1</td>\n",
       "      <td>12.9</td>\n",
       "      <td>0.7</td>\n",
       "      <td>195.9</td>\n",
       "      <td>49.8</td>\n",
       "      <td>146.1</td>\n",
       "      <td>535.9</td>\n",
       "    </tr>\n",
       "    <tr>\n",
       "      <th>1</th>\n",
       "      <td>4644.8</td>\n",
       "      <td>3885.4</td>\n",
       "      <td>549.3</td>\n",
       "      <td>212.8</td>\n",
       "      <td>28.9</td>\n",
       "      <td>517.7</td>\n",
       "      <td>131.5</td>\n",
       "      <td>387.9</td>\n",
       "      <td>1202.7</td>\n",
       "    </tr>\n",
       "    <tr>\n",
       "      <th>2</th>\n",
       "      <td>1357.1</td>\n",
       "      <td>912.7</td>\n",
       "      <td>382.1</td>\n",
       "      <td>24.5</td>\n",
       "      <td>7.4</td>\n",
       "      <td>412.5</td>\n",
       "      <td>88.4</td>\n",
       "      <td>323.1</td>\n",
       "      <td>1216.1</td>\n",
       "    </tr>\n",
       "    <tr>\n",
       "      <th>3</th>\n",
       "      <td>4650.0</td>\n",
       "      <td>4305.4</td>\n",
       "      <td>325.0</td>\n",
       "      <td>41.3</td>\n",
       "      <td>26.6</td>\n",
       "      <td>276.7</td>\n",
       "      <td>73.8</td>\n",
       "      <td>202.9</td>\n",
       "      <td>767.5</td>\n",
       "    </tr>\n",
       "    <tr>\n",
       "      <th>4</th>\n",
       "      <td>2956.5</td>\n",
       "      <td>1026.7</td>\n",
       "      <td>647.7</td>\n",
       "      <td>0.0</td>\n",
       "      <td>1282.1</td>\n",
       "      <td>533.4</td>\n",
       "      <td>131.5</td>\n",
       "      <td>401.8</td>\n",
       "      <td>1606.2</td>\n",
       "    </tr>\n",
       "  </tbody>\n",
       "</table>\n",
       "</div>"
      ],
      "text/plain": [
       "   revenue  operating_expenses  operating_profit  depreciation  interest  \\\n",
       "0   1057.0               847.4             192.1          12.9       0.7   \n",
       "1   4644.8              3885.4             549.3         212.8      28.9   \n",
       "2   1357.1               912.7             382.1          24.5       7.4   \n",
       "3   4650.0              4305.4             325.0          41.3      26.6   \n",
       "4   2956.5              1026.7             647.7           0.0    1282.1   \n",
       "\n",
       "   profit_before_tax    tax  net_profit  profit_TTM  \n",
       "0              195.9   49.8       146.1       535.9  \n",
       "1              517.7  131.5       387.9      1202.7  \n",
       "2              412.5   88.4       323.1      1216.1  \n",
       "3              276.7   73.8       202.9       767.5  \n",
       "4              533.4  131.5       401.8      1606.2  "
      ]
     },
     "execution_count": 15,
     "metadata": {},
     "output_type": "execute_result"
    }
   ],
   "source": [
    "df_new.head()"
   ]
  },
  {
   "cell_type": "markdown",
   "id": "3733f3f8",
   "metadata": {},
   "source": [
    "# Method 1"
   ]
  },
  {
   "cell_type": "markdown",
   "id": "09fc7081",
   "metadata": {},
   "source": [
    "# Using Linear Regression Method"
   ]
  },
  {
   "cell_type": "code",
   "execution_count": 16,
   "id": "2f8efccf",
   "metadata": {},
   "outputs": [
    {
     "name": "stdout",
     "output_type": "stream",
     "text": [
      "Revenue - MAE: 4772.302963849614, RMSE: 17499.420993995154\n",
      "Operating Expenses - MAE: 4776.303183056522, RMSE: 17528.49345955405\n",
      "Net Profit - MAE: 56.4576244071672, RMSE: 142.02839324198374\n"
     ]
    }
   ],
   "source": [
    "import pandas as pd\n",
    "from sklearn.model_selection import train_test_split\n",
    "from sklearn.linear_model import LinearRegression\n",
    "from sklearn.metrics import mean_absolute_error, mean_squared_error\n",
    "import numpy as np\n",
    "\n",
    "# Assuming df_cleaned contains your cleaned data\n",
    "df = df_new\n",
    "\n",
    "# Step 1: Prepare the features (X) and target variables (y)\n",
    "# Features: We'll use all columns except the target column we're predicting\n",
    "X = df.drop(['revenue', 'operating_expenses', 'net_profit'], axis=1)\n",
    "\n",
    "# Targets: revenue, operating_expenses, net_profit\n",
    "y_revenue = df['revenue']\n",
    "y_expenses = df['operating_expenses']\n",
    "y_profit = df['net_profit']\n",
    "\n",
    "# Step 2: Split the data into training and testing sets\n",
    "X_train, X_test, y_revenue_train, y_revenue_test = train_test_split(X, y_revenue, test_size=0.2, random_state=42)\n",
    "_, _, y_expenses_train, y_expenses_test = train_test_split(X, y_expenses, test_size=0.2, random_state=42)\n",
    "_, _, y_profit_train, y_profit_test = train_test_split(X, y_profit, test_size=0.2, random_state=42)\n",
    "\n",
    "# Step 3: Train the models using Linear Regression (you can use more complex models later)\n",
    "model_revenue = LinearRegression()\n",
    "model_expenses = LinearRegression()\n",
    "model_profit = LinearRegression()\n",
    "\n",
    "# Fit the models\n",
    "model_revenue.fit(X_train, y_revenue_train)\n",
    "model_expenses.fit(X_train, y_expenses_train)\n",
    "model_profit.fit(X_train, y_profit_train)\n",
    "\n",
    "# Step 4: Make predictions\n",
    "revenue_pred = model_revenue.predict(X_test)\n",
    "expenses_pred = model_expenses.predict(X_test)\n",
    "profit_pred = model_profit.predict(X_test)\n",
    "\n",
    "# Step 5: Evaluate the models\n",
    "def evaluate_model(y_true, y_pred, target_name):\n",
    "    mae = mean_absolute_error(y_true, y_pred)\n",
    "    rmse = np.sqrt(mean_squared_error(y_true, y_pred))\n",
    "    print(f'{target_name} - MAE: {mae}, RMSE: {rmse}')\n",
    "\n",
    "evaluate_model(y_revenue_test, revenue_pred, \"Revenue\")\n",
    "evaluate_model(y_expenses_test, expenses_pred, \"Operating Expenses\")\n",
    "evaluate_model(y_profit_test, profit_pred, \"Net Profit\")\n",
    "\n"
   ]
  },
  {
   "cell_type": "markdown",
   "id": "4e1185f3",
   "metadata": {},
   "source": [
    "# Method 2"
   ]
  },
  {
   "cell_type": "markdown",
   "id": "486ff716",
   "metadata": {},
   "source": [
    "## Using Random Forest Regressor"
   ]
  },
  {
   "cell_type": "code",
   "execution_count": 17,
   "id": "c25b3f3f",
   "metadata": {},
   "outputs": [
    {
     "name": "stderr",
     "output_type": "stream",
     "text": [
      "[I 2024-09-16 14:11:15,079] A new study created in memory with name: no-name-752369f2-4b80-4706-8dd9-cbe28aaaa3c6\n",
      "[I 2024-09-16 14:11:18,660] Trial 0 finished with value: 10800.210391635188 and parameters: {'n_estimators': 458, 'max_depth': 19, 'min_samples_split': 8}. Best is trial 0 with value: 10800.210391635188.\n",
      "[I 2024-09-16 14:11:19,028] Trial 1 finished with value: 10114.946522223052 and parameters: {'n_estimators': 74, 'max_depth': 4, 'min_samples_split': 2}. Best is trial 1 with value: 10114.946522223052.\n",
      "[I 2024-09-16 14:11:20,057] Trial 2 finished with value: 10807.417790526397 and parameters: {'n_estimators': 140, 'max_depth': 19, 'min_samples_split': 8}. Best is trial 1 with value: 10114.946522223052.\n",
      "[I 2024-09-16 14:11:23,427] Trial 3 finished with value: 10806.02774819116 and parameters: {'n_estimators': 464, 'max_depth': 13, 'min_samples_split': 8}. Best is trial 1 with value: 10114.946522223052.\n",
      "[I 2024-09-16 14:11:24,728] Trial 4 finished with value: 10888.69934475559 and parameters: {'n_estimators': 175, 'max_depth': 17, 'min_samples_split': 10}. Best is trial 1 with value: 10114.946522223052.\n",
      "[I 2024-09-16 14:11:27,821] Trial 5 finished with value: 10085.84098126723 and parameters: {'n_estimators': 448, 'max_depth': 9, 'min_samples_split': 3}. Best is trial 5 with value: 10085.84098126723.\n",
      "[I 2024-09-16 14:11:29,710] Trial 6 finished with value: 10815.4088534862 and parameters: {'n_estimators': 300, 'max_depth': 8, 'min_samples_split': 8}. Best is trial 5 with value: 10085.84098126723.\n",
      "[I 2024-09-16 14:11:32,666] Trial 7 finished with value: 10694.503196786427 and parameters: {'n_estimators': 421, 'max_depth': 10, 'min_samples_split': 6}. Best is trial 5 with value: 10085.84098126723.\n",
      "[I 2024-09-16 14:11:35,054] Trial 8 finished with value: 10051.199586388873 and parameters: {'n_estimators': 353, 'max_depth': 9, 'min_samples_split': 3}. Best is trial 8 with value: 10051.199586388873.\n",
      "[I 2024-09-16 14:11:38,589] Trial 9 finished with value: 10875.612940125266 and parameters: {'n_estimators': 484, 'max_depth': 20, 'min_samples_split': 9}. Best is trial 8 with value: 10051.199586388873.\n",
      "[I 2024-09-16 14:11:41,224] Trial 10 finished with value: 10319.221428147992 and parameters: {'n_estimators': 326, 'max_depth': 14, 'min_samples_split': 4}. Best is trial 8 with value: 10051.199586388873.\n",
      "[I 2024-09-16 14:11:43,561] Trial 11 finished with value: 10050.480138932096 and parameters: {'n_estimators': 370, 'max_depth': 7, 'min_samples_split': 2}. Best is trial 11 with value: 10050.480138932096.\n",
      "[I 2024-09-16 14:11:45,608] Trial 12 finished with value: 10558.480583453096 and parameters: {'n_estimators': 382, 'max_depth': 5, 'min_samples_split': 5}. Best is trial 11 with value: 10050.480138932096.\n",
      "[I 2024-09-16 14:11:47,101] Trial 13 finished with value: 10064.742254189568 and parameters: {'n_estimators': 233, 'max_depth': 7, 'min_samples_split': 2}. Best is trial 11 with value: 10050.480138932096.\n",
      "[I 2024-09-16 14:11:49,783] Trial 14 finished with value: 10263.027679451317 and parameters: {'n_estimators': 365, 'max_depth': 11, 'min_samples_split': 4}. Best is trial 11 with value: 10050.480138932096.\n",
      "[I 2024-09-16 14:11:51,182] Trial 15 finished with value: 10016.754980301399 and parameters: {'n_estimators': 237, 'max_depth': 6, 'min_samples_split': 3}. Best is trial 15 with value: 10016.754980301399.\n",
      "[I 2024-09-16 14:11:52,629] Trial 16 finished with value: 10050.579711584334 and parameters: {'n_estimators': 248, 'max_depth': 6, 'min_samples_split': 2}. Best is trial 15 with value: 10016.754980301399.\n",
      "[I 2024-09-16 14:11:53,558] Trial 17 finished with value: 10531.428044352859 and parameters: {'n_estimators': 194, 'max_depth': 4, 'min_samples_split': 5}. Best is trial 15 with value: 10016.754980301399.\n",
      "[I 2024-09-16 14:11:55,273] Trial 18 finished with value: 10689.69700340827 and parameters: {'n_estimators': 284, 'max_depth': 7, 'min_samples_split': 6}. Best is trial 15 with value: 10016.754980301399.\n",
      "[I 2024-09-16 14:11:57,153] Trial 19 finished with value: 10103.100918142896 and parameters: {'n_estimators': 241, 'max_depth': 11, 'min_samples_split': 3}. Best is trial 15 with value: 10016.754980301399.\n"
     ]
    },
    {
     "name": "stdout",
     "output_type": "stream",
     "text": [
      "Best Random Forest Params: {'n_estimators': 237, 'max_depth': 6, 'min_samples_split': 3}\n"
     ]
    },
    {
     "name": "stderr",
     "output_type": "stream",
     "text": [
      "[I 2024-09-16 14:11:57,453] A new study created in memory with name: no-name-b4847f40-880b-484f-9923-1d807d897b0b\n",
      "[I 2024-09-16 14:12:03,819] Trial 0 finished with value: 11567.912738173858 and parameters: {'n_estimators': 284, 'max_depth': 9, 'learning_rate': 0.14022828278759075}. Best is trial 0 with value: 11567.912738173858.\n",
      "[I 2024-09-16 14:12:04,574] Trial 1 finished with value: 11982.338427709303 and parameters: {'n_estimators': 167, 'max_depth': 11, 'learning_rate': 0.03324574097061238}. Best is trial 0 with value: 11567.912738173858.\n",
      "[I 2024-09-16 14:12:05,229] Trial 2 finished with value: 11949.733172412067 and parameters: {'n_estimators': 89, 'max_depth': 15, 'learning_rate': 0.08735521715017795}. Best is trial 0 with value: 11567.912738173858.\n",
      "[I 2024-09-16 14:12:07,607] Trial 3 finished with value: 11601.213870774218 and parameters: {'n_estimators': 177, 'max_depth': 16, 'learning_rate': 0.17889794475721457}. Best is trial 0 with value: 11567.912738173858.\n",
      "[I 2024-09-16 14:12:09,039] Trial 4 finished with value: 11380.552069345671 and parameters: {'n_estimators': 151, 'max_depth': 18, 'learning_rate': 0.29231641494374716}. Best is trial 4 with value: 11380.552069345671.\n",
      "[I 2024-09-16 14:12:09,935] Trial 5 finished with value: 12070.26054192259 and parameters: {'n_estimators': 112, 'max_depth': 18, 'learning_rate': 0.04799057092161279}. Best is trial 4 with value: 11380.552069345671.\n",
      "[I 2024-09-16 14:12:10,716] Trial 6 finished with value: 11471.633847665431 and parameters: {'n_estimators': 96, 'max_depth': 15, 'learning_rate': 0.19021866129979917}. Best is trial 4 with value: 11380.552069345671.\n",
      "[I 2024-09-16 14:12:11,773] Trial 7 finished with value: 10905.44884352785 and parameters: {'n_estimators': 164, 'max_depth': 3, 'learning_rate': 0.21346943977038446}. Best is trial 7 with value: 10905.44884352785.\n",
      "[I 2024-09-16 14:12:16,527] Trial 8 finished with value: 11867.898131710743 and parameters: {'n_estimators': 442, 'max_depth': 16, 'learning_rate': 0.028160974952484402}. Best is trial 7 with value: 10905.44884352785.\n",
      "[I 2024-09-16 14:12:16,773] Trial 9 finished with value: 10653.074783318656 and parameters: {'n_estimators': 239, 'max_depth': 3, 'learning_rate': 0.16633338756699853}. Best is trial 9 with value: 10653.074783318656.\n",
      "[I 2024-09-16 14:12:17,087] Trial 10 finished with value: 10615.977389494772 and parameters: {'n_estimators': 306, 'max_depth': 3, 'learning_rate': 0.260288168570606}. Best is trial 10 with value: 10615.977389494772.\n",
      "[I 2024-09-16 14:12:17,586] Trial 11 finished with value: 10599.17859341952 and parameters: {'n_estimators': 306, 'max_depth': 3, 'learning_rate': 0.25726252935646343}. Best is trial 11 with value: 10599.17859341952.\n",
      "[I 2024-09-16 14:12:19,334] Trial 12 finished with value: 11359.883525009864 and parameters: {'n_estimators': 361, 'max_depth': 7, 'learning_rate': 0.28005038798149334}. Best is trial 11 with value: 10599.17859341952.\n",
      "[I 2024-09-16 14:12:21,255] Trial 13 finished with value: 11198.231449417206 and parameters: {'n_estimators': 339, 'max_depth': 6, 'learning_rate': 0.24314729738562124}. Best is trial 11 with value: 10599.17859341952.\n",
      "[I 2024-09-16 14:12:22,404] Trial 14 finished with value: 11222.8278693791 and parameters: {'n_estimators': 500, 'max_depth': 6, 'learning_rate': 0.24668089132771828}. Best is trial 11 with value: 10599.17859341952.\n",
      "[I 2024-09-16 14:12:22,982] Trial 15 finished with value: 10687.051334334736 and parameters: {'n_estimators': 359, 'max_depth': 4, 'learning_rate': 0.23871579535707327}. Best is trial 11 with value: 10599.17859341952.\n",
      "[I 2024-09-16 14:12:24,162] Trial 16 finished with value: 11615.24314236956 and parameters: {'n_estimators': 260, 'max_depth': 9, 'learning_rate': 0.13004262491666826}. Best is trial 11 with value: 10599.17859341952.\n",
      "[I 2024-09-16 14:12:24,778] Trial 17 finished with value: 11112.785174135946 and parameters: {'n_estimators': 311, 'max_depth': 5, 'learning_rate': 0.2697292603002391}. Best is trial 11 with value: 10599.17859341952.\n",
      "[I 2024-09-16 14:12:25,580] Trial 18 finished with value: 11736.881406722492 and parameters: {'n_estimators': 225, 'max_depth': 8, 'learning_rate': 0.2230426168187436}. Best is trial 11 with value: 10599.17859341952.\n",
      "[I 2024-09-16 14:12:28,444] Trial 19 finished with value: 11921.32879499246 and parameters: {'n_estimators': 408, 'max_depth': 12, 'learning_rate': 0.10956263501090088}. Best is trial 11 with value: 10599.17859341952.\n"
     ]
    },
    {
     "name": "stdout",
     "output_type": "stream",
     "text": [
      "Best XGBoost Params: {'n_estimators': 306, 'max_depth': 3, 'learning_rate': 0.25726252935646343}\n",
      "\n",
      "Evaluation for Random Forest:\n",
      "Revenue (Random Forest) - MAE: 4501.242254383819, RMSE: 17729.444510121055\n",
      "\n",
      "Evaluation for XGBoost:\n",
      "Revenue (XGBoost) - MAE: 4984.601291061401, RMSE: 18967.859159973483\n"
     ]
    }
   ],
   "source": [
    "import pandas as pd\n",
    "from sklearn.model_selection import train_test_split, GridSearchCV, KFold, cross_val_score\n",
    "from sklearn.ensemble import RandomForestRegressor\n",
    "from xgboost import XGBRegressor\n",
    "from sklearn.metrics import mean_absolute_error, mean_squared_error\n",
    "import numpy as np\n",
    "import optuna\n",
    "\n",
    "# Assuming df_cleaned contains your cleaned data\n",
    "df = df_new\n",
    "\n",
    "# Drop any non-numeric columns if necessary\n",
    "X = df.drop(['revenue', 'operating_expenses', 'net_profit'], axis=1)\n",
    "\n",
    "# Target variables\n",
    "y_revenue = df['revenue']\n",
    "y_expenses = df['operating_expenses']\n",
    "y_profit = df['net_profit']\n",
    "\n",
    "# Step 2: Train/Test split\n",
    "X_train, X_test, y_revenue_train, y_revenue_test = train_test_split(X, y_revenue, test_size=0.2, random_state=42)\n",
    "_, _, y_expenses_train, y_expenses_test = train_test_split(X, y_expenses, test_size=0.2, random_state=42)\n",
    "_, _, y_profit_train, y_profit_test = train_test_split(X, y_profit, test_size=0.2, random_state=42)\n",
    "\n",
    "# Step 3: Hyperparameter Tuning with Random Forest\n",
    "\n",
    "def optimize_random_forest(trial):\n",
    "    # Define the hyperparameter search space\n",
    "    n_estimators = trial.suggest_int('n_estimators', 50, 500)\n",
    "    max_depth = trial.suggest_int('max_depth', 4, 20)\n",
    "    min_samples_split = trial.suggest_int('min_samples_split', 2, 10)\n",
    "\n",
    "    model_rf = RandomForestRegressor(\n",
    "        n_estimators=n_estimators, \n",
    "        max_depth=max_depth, \n",
    "        min_samples_split=min_samples_split, \n",
    "        random_state=42\n",
    "    )\n",
    "    \n",
    "    # K-Fold Cross-Validation\n",
    "    kf = KFold(n_splits=5, shuffle=True, random_state=42)\n",
    "    scores = cross_val_score(model_rf, X_train, y_revenue_train, cv=kf, scoring='neg_mean_squared_error')\n",
    "    rmse = np.sqrt(-np.mean(scores))\n",
    "    \n",
    "    return rmse\n",
    "\n",
    "# Optuna for Hyperparameter Tuning\n",
    "study = optuna.create_study(direction='minimize')\n",
    "study.optimize(optimize_random_forest, n_trials=20)\n",
    "\n",
    "# Best hyperparameters for Random Forest\n",
    "best_params_rf = study.best_params\n",
    "print(\"Best Random Forest Params:\", best_params_rf)\n",
    "\n",
    "# Fit Random Forest with the best params\n",
    "best_rf = RandomForestRegressor(**best_params_rf, random_state=42)\n",
    "best_rf.fit(X_train, y_revenue_train)\n",
    "revenue_pred_rf = best_rf.predict(X_test)\n",
    "\n",
    "# Step 4: Hyperparameter Tuning with XGBoost\n",
    "\n",
    "def optimize_xgboost(trial):\n",
    "    # Define the hyperparameter search space\n",
    "    n_estimators = trial.suggest_int('n_estimators', 50, 500)\n",
    "    max_depth = trial.suggest_int('max_depth', 3, 20)\n",
    "    learning_rate = trial.suggest_float('learning_rate', 0.01, 0.3)\n",
    "\n",
    "    model_xgb = XGBRegressor(\n",
    "        n_estimators=n_estimators, \n",
    "        max_depth=max_depth, \n",
    "        learning_rate=learning_rate, \n",
    "        random_state=42\n",
    "    )\n",
    "    \n",
    "    # K-Fold Cross-Validation\n",
    "    kf = KFold(n_splits=5, shuffle=True, random_state=42)\n",
    "    scores = cross_val_score(model_xgb, X_train, y_revenue_train, cv=kf, scoring='neg_mean_squared_error')\n",
    "    rmse = np.sqrt(-np.mean(scores))\n",
    "    \n",
    "    return rmse\n",
    "\n",
    "# Optuna for Hyperparameter Tuning\n",
    "study_xgb = optuna.create_study(direction='minimize')\n",
    "study_xgb.optimize(optimize_xgboost, n_trials=20)\n",
    "\n",
    "# Best hyperparameters for XGBoost\n",
    "best_params_xgb = study_xgb.best_params\n",
    "print(\"Best XGBoost Params:\", best_params_xgb)\n",
    "\n",
    "# Fit XGBoost with the best params\n",
    "best_xgb = XGBRegressor(**best_params_xgb, random_state=42)\n",
    "best_xgb.fit(X_train, y_revenue_train)\n",
    "revenue_pred_xgb = best_xgb.predict(X_test)\n",
    "\n",
    "# Step 5: Evaluate the models\n",
    "\n",
    "def evaluate_model(y_true, y_pred, target_name):\n",
    "    mae = mean_absolute_error(y_true, y_pred)\n",
    "    rmse = np.sqrt(mean_squared_error(y_true, y_pred))\n",
    "    print(f'{target_name} - MAE: {mae}, RMSE: {rmse}')\n",
    "\n",
    "print(\"\\nEvaluation for Random Forest:\")\n",
    "evaluate_model(y_revenue_test, revenue_pred_rf, \"Revenue (Random Forest)\")\n",
    "\n",
    "print(\"\\nEvaluation for XGBoost:\")\n",
    "evaluate_model(y_revenue_test, revenue_pred_xgb, \"Revenue (XGBoost)\")\n",
    "\n"
   ]
  },
  {
   "cell_type": "markdown",
   "id": "72efcdd7",
   "metadata": {},
   "source": [
    "# Develop a risk management model that can identify and quantify financial risks"
   ]
  },
  {
   "cell_type": "code",
   "execution_count": 18,
   "id": "4fd97d29",
   "metadata": {},
   "outputs": [
    {
     "name": "stdout",
     "output_type": "stream",
     "text": [
      "Annualized Volatility of Revenue: 467.3210861009448\n",
      "Annualized Volatility of Net Profit: 515.1456768384614\n",
      "VaR for Revenue (95% confidence): -4266.41%\n",
      "VaR for Net Profit (95% confidence): -4931.08%\n",
      "CVaR for Revenue (95% confidence): -5496.52%\n",
      "CVaR for Net Profit (95% confidence): -6287.08%\n"
     ]
    }
   ],
   "source": [
    "import pandas as pd\n",
    "import numpy as np\n",
    "import matplotlib.pyplot as plt\n",
    "from scipy.stats import norm\n",
    "\n",
    "# Assuming df_cleaned contains your cleaned data\n",
    "df = df_new\n",
    "\n",
    "# Step 1: Calculate historical volatility\n",
    "# We calculate volatility as the standard deviation of percentage change in revenue or profits\n",
    "df['revenue_pct_change'] = df['revenue'].pct_change()  # Calculate percentage change in revenue\n",
    "df['profit_pct_change'] = df['net_profit'].pct_change()  # Calculate percentage change in net profit\n",
    "\n",
    "# Drop NaN values due to pct_change\n",
    "df.dropna(inplace=True)\n",
    "\n",
    "# Step 2: Calculate Volatility (Standard Deviation of Percentage Change)\n",
    "volatility_revenue = np.std(df['revenue_pct_change']) * np.sqrt(252)  # Annualized volatility\n",
    "volatility_profit = np.std(df['profit_pct_change']) * np.sqrt(252)\n",
    "\n",
    "print(f\"Annualized Volatility of Revenue: {volatility_revenue}\")\n",
    "print(f\"Annualized Volatility of Net Profit: {volatility_profit}\")\n",
    "\n",
    "# Step 3: Value at Risk (VaR) Calculation\n",
    "confidence_level = 0.95  # 95% confidence level\n",
    "mean_revenue = np.mean(df['revenue_pct_change'])\n",
    "std_revenue = np.std(df['revenue_pct_change'])\n",
    "\n",
    "# Using Z-Score for VaR calculation\n",
    "VaR_revenue = norm.ppf(1 - confidence_level) * std_revenue + mean_revenue\n",
    "VaR_profit = norm.ppf(1 - confidence_level) * np.std(df['profit_pct_change']) + np.mean(df['profit_pct_change'])\n",
    "\n",
    "print(f\"VaR for Revenue (95% confidence): {VaR_revenue * 100:.2f}%\")\n",
    "print(f\"VaR for Net Profit (95% confidence): {VaR_profit * 100:.2f}%\")\n",
    "\n",
    "# Step 4: Conditional Value at Risk (CVaR) Calculation\n",
    "CVaR_revenue = mean_revenue - (norm.pdf(norm.ppf(1 - confidence_level)) * std_revenue / (1 - confidence_level))\n",
    "CVaR_profit = np.mean(df['profit_pct_change']) - (norm.pdf(norm.ppf(1 - confidence_level)) * np.std(df['profit_pct_change']) / (1 - confidence_level))\n",
    "\n",
    "print(f\"CVaR for Revenue (95% confidence): {CVaR_revenue * 100:.2f}%\")\n",
    "print(f\"CVaR for Net Profit (95% confidence): {CVaR_profit * 100:.2f}%\")\n",
    "\n",
    "# Step 5: Monte Carlo Simulation for Future Risk Prediction\n",
    "\n",
    "# Simulate potential future outcomes using historical data\n",
    "num_simulations = 10000\n",
    "simulation_horizon = 252  # One year of trading days\n",
    "\n",
    "# Create an empty matrix to store the simulation results\n",
    "revenue_simulations = np.zeros((simulation_horizon, num_simulations))\n",
    "profit_simulations = np.zeros((simulation_horizon, num_simulations))\n",
    "\n",
    "# Generate random simulations based on normal distribution\n",
    "for i in range(num_simulations):\n",
    "    revenue_simulations[:, i] = np.cumprod(1 + np.random.normal(mean_revenue, std_revenue, simulation_horizon))\n",
    "    profit_simulations[:, i] = np.cumprod(1 + np.random.normal(np.mean(df['profit_pct_change']), np.std(df['profit_pct_change']), simulation_horizon))\n",
    "\n",
    "\n",
    "\n"
   ]
  },
  {
   "cell_type": "code",
   "execution_count": null,
   "id": "0a930832",
   "metadata": {},
   "outputs": [],
   "source": []
  }
 ],
 "metadata": {
  "kernelspec": {
   "display_name": "Python 3",
   "language": "python",
   "name": "python3"
  },
  "language_info": {
   "codemirror_mode": {
    "name": "ipython",
    "version": 3
   },
   "file_extension": ".py",
   "mimetype": "text/x-python",
   "name": "python",
   "nbconvert_exporter": "python",
   "pygments_lexer": "ipython3",
   "version": "3.8.10"
  }
 },
 "nbformat": 4,
 "nbformat_minor": 5
}
